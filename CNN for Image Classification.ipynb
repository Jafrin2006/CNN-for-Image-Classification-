{
 "cells": [
  {
   "cell_type": "code",
   "execution_count": 1,
   "id": "4c8c7d3b-6692-484d-ab77-3476373537e3",
   "metadata": {},
   "outputs": [],
   "source": [
    "import tensorflow as tf\n",
    "from tensorflow.keras.models import Sequential\n",
    "from tensorflow.keras.layers import Conv2D, MaxPooling2D, Flatten, Dense, Dropout, BatchNormalization\n",
    "from tensorflow.keras.preprocessing.image import ImageDataGenerator\n",
    "from tensorflow.keras.callbacks import EarlyStopping, ReduceLROnPlateau\n"
   ]
  },
  {
   "cell_type": "code",
   "execution_count": 2,
   "id": "3d4ce5b1-2ba7-487d-a739-7e6797a374e5",
   "metadata": {},
   "outputs": [
    {
     "name": "stdout",
     "output_type": "stream",
     "text": [
      "Found 6400 images belonging to 2 classes.\n",
      "Found 400 images belonging to 2 classes.\n"
     ]
    }
   ],
   "source": [
    "# Data Augmentation\n",
    "data_gen = ImageDataGenerator(\n",
    "    rescale=1.0/255,\n",
    "    rotation_range=20,\n",
    "    width_shift_range=0.2,\n",
    "    height_shift_range=0.2,\n",
    "    shear_range=0.2,\n",
    "    zoom_range=0.2,\n",
    "    horizontal_flip=True,\n",
    "    validation_split=0.2  # Split for training and validation\n",
    ")\n",
    "\n",
    "train_data = data_gen.flow_from_directory(\n",
    "    'dataset/training_set',\n",
    "    target_size=(128, 128),\n",
    "    batch_size=32,\n",
    "    class_mode='categorical',\n",
    "    subset='training'\n",
    ")\n",
    "\n",
    "val_data = data_gen.flow_from_directory(\n",
    "    'dataset/test_set',\n",
    "    target_size=(128, 128),\n",
    "    batch_size=32,\n",
    "    class_mode='categorical',\n",
    "    subset='validation'\n",
    ")\n"
   ]
  },
  {
   "cell_type": "code",
   "execution_count": 3,
   "id": "e0020b44-ee5b-4d7e-a186-3734537e50dd",
   "metadata": {},
   "outputs": [
    {
     "name": "stderr",
     "output_type": "stream",
     "text": [
      "C:\\Users\\jafri\\AppData\\Local\\Programs\\Python\\Python312\\Lib\\site-packages\\keras\\src\\layers\\convolutional\\base_conv.py:107: UserWarning: Do not pass an `input_shape`/`input_dim` argument to a layer. When using Sequential models, prefer using an `Input(shape)` object as the first layer in the model instead.\n",
      "  super().__init__(activity_regularizer=activity_regularizer, **kwargs)\n"
     ]
    }
   ],
   "source": [
    "# Building the CNN Model\n",
    "model = Sequential([\n",
    "    Conv2D(32, (3, 3), activation='relu', input_shape=(128, 128, 3)),\n",
    "    BatchNormalization(),\n",
    "    MaxPooling2D((2, 2)),\n",
    "    Dropout(0.25),\n",
    "\n",
    "    Conv2D(64, (3, 3), activation='relu'),\n",
    "    BatchNormalization(),\n",
    "    MaxPooling2D((2, 2)),\n",
    "    Dropout(0.25),\n",
    "\n",
    "    Conv2D(128, (3, 3), activation='relu'),\n",
    "    BatchNormalization(),\n",
    "    MaxPooling2D((2, 2)),\n",
    "    Dropout(0.4),\n",
    "\n",
    "    Flatten(),\n",
    "    Dense(128, activation='relu'),\n",
    "    BatchNormalization(),\n",
    "    Dropout(0.5),\n",
    "    Dense(train_data.num_classes, activation='softmax')\n",
    "])"
   ]
  },
  {
   "cell_type": "code",
   "execution_count": 4,
   "id": "80c75c43-4cc3-4cdb-b6eb-e2f69ba29f4e",
   "metadata": {},
   "outputs": [],
   "source": [
    "# Compiling the Model\n",
    "model.compile(\n",
    "    optimizer=tf.keras.optimizers.Adam(learning_rate=0.001),\n",
    "    loss='categorical_crossentropy',\n",
    "    metrics=['accuracy']\n",
    ")"
   ]
  },
  {
   "cell_type": "code",
   "execution_count": 5,
   "id": "12829a8a-ae9b-4b12-9dc3-11f378f5d092",
   "metadata": {},
   "outputs": [],
   "source": [
    "# Callbacks for Training\n",
    "early_stopping = EarlyStopping(monitor='val_loss', patience=10, restore_best_weights=True)\n",
    "reduce_lr = ReduceLROnPlateau(monitor='val_loss', factor=0.5, patience=5, min_lr=1e-6)\n"
   ]
  },
  {
   "cell_type": "code",
   "execution_count": 7,
   "id": "2aaa1828-64b3-4fc3-af41-f79e99e99891",
   "metadata": {},
   "outputs": [
    {
     "name": "stdout",
     "output_type": "stream",
     "text": [
      "Epoch 1/50\n",
      "\u001b[1m200/200\u001b[0m \u001b[32m━━━━━━━━━━━━━━━━━━━━\u001b[0m\u001b[37m\u001b[0m \u001b[1m0s\u001b[0m 2s/step - accuracy: 0.5603 - loss: 1.0477  "
     ]
    },
    {
     "name": "stderr",
     "output_type": "stream",
     "text": [
      "C:\\Users\\jafri\\AppData\\Local\\Programs\\Python\\Python312\\Lib\\site-packages\\keras\\src\\trainers\\data_adapters\\py_dataset_adapter.py:121: UserWarning: Your `PyDataset` class should call `super().__init__(**kwargs)` in its constructor. `**kwargs` can include `workers`, `use_multiprocessing`, `max_queue_size`. Do not pass these arguments to `fit()`, as they will be ignored.\n",
      "  self._warn_if_super_not_called()\n"
     ]
    },
    {
     "name": "stdout",
     "output_type": "stream",
     "text": [
      "\u001b[1m200/200\u001b[0m \u001b[32m━━━━━━━━━━━━━━━━━━━━\u001b[0m\u001b[37m\u001b[0m \u001b[1m369s\u001b[0m 2s/step - accuracy: 0.5603 - loss: 1.0471 - val_accuracy: 0.5000 - val_loss: 0.9986 - learning_rate: 0.0010\n",
      "Epoch 2/50\n",
      "\u001b[1m200/200\u001b[0m \u001b[32m━━━━━━━━━━━━━━━━━━━━\u001b[0m\u001b[37m\u001b[0m \u001b[1m257s\u001b[0m 1s/step - accuracy: 0.5979 - loss: 0.7404 - val_accuracy: 0.5375 - val_loss: 0.7915 - learning_rate: 0.0010\n",
      "Epoch 3/50\n",
      "\u001b[1m200/200\u001b[0m \u001b[32m━━━━━━━━━━━━━━━━━━━━\u001b[0m\u001b[37m\u001b[0m \u001b[1m251s\u001b[0m 1s/step - accuracy: 0.6225 - loss: 0.6588 - val_accuracy: 0.6150 - val_loss: 0.6423 - learning_rate: 0.0010\n",
      "Epoch 4/50\n",
      "\u001b[1m200/200\u001b[0m \u001b[32m━━━━━━━━━━━━━━━━━━━━\u001b[0m\u001b[37m\u001b[0m \u001b[1m133s\u001b[0m 667ms/step - accuracy: 0.6534 - loss: 0.6223 - val_accuracy: 0.6650 - val_loss: 0.6034 - learning_rate: 0.0010\n",
      "Epoch 5/50\n",
      "\u001b[1m200/200\u001b[0m \u001b[32m━━━━━━━━━━━━━━━━━━━━\u001b[0m\u001b[37m\u001b[0m \u001b[1m148s\u001b[0m 742ms/step - accuracy: 0.6820 - loss: 0.5928 - val_accuracy: 0.6625 - val_loss: 0.6138 - learning_rate: 0.0010\n",
      "Epoch 6/50\n",
      "\u001b[1m200/200\u001b[0m \u001b[32m━━━━━━━━━━━━━━━━━━━━\u001b[0m\u001b[37m\u001b[0m \u001b[1m146s\u001b[0m 728ms/step - accuracy: 0.6835 - loss: 0.5810 - val_accuracy: 0.6900 - val_loss: 0.5941 - learning_rate: 0.0010\n",
      "Epoch 7/50\n",
      "\u001b[1m200/200\u001b[0m \u001b[32m━━━━━━━━━━━━━━━━━━━━\u001b[0m\u001b[37m\u001b[0m \u001b[1m146s\u001b[0m 732ms/step - accuracy: 0.6927 - loss: 0.5728 - val_accuracy: 0.6975 - val_loss: 0.5955 - learning_rate: 0.0010\n",
      "Epoch 8/50\n",
      "\u001b[1m200/200\u001b[0m \u001b[32m━━━━━━━━━━━━━━━━━━━━\u001b[0m\u001b[37m\u001b[0m \u001b[1m146s\u001b[0m 730ms/step - accuracy: 0.7137 - loss: 0.5570 - val_accuracy: 0.6975 - val_loss: 0.5681 - learning_rate: 0.0010\n",
      "Epoch 9/50\n",
      "\u001b[1m200/200\u001b[0m \u001b[32m━━━━━━━━━━━━━━━━━━━━\u001b[0m\u001b[37m\u001b[0m \u001b[1m117s\u001b[0m 583ms/step - accuracy: 0.7120 - loss: 0.5479 - val_accuracy: 0.6525 - val_loss: 0.6592 - learning_rate: 0.0010\n",
      "Epoch 10/50\n",
      "\u001b[1m200/200\u001b[0m \u001b[32m━━━━━━━━━━━━━━━━━━━━\u001b[0m\u001b[37m\u001b[0m \u001b[1m109s\u001b[0m 542ms/step - accuracy: 0.7394 - loss: 0.5244 - val_accuracy: 0.6950 - val_loss: 0.6502 - learning_rate: 0.0010\n",
      "Epoch 11/50\n",
      "\u001b[1m200/200\u001b[0m \u001b[32m━━━━━━━━━━━━━━━━━━━━\u001b[0m\u001b[37m\u001b[0m \u001b[1m112s\u001b[0m 561ms/step - accuracy: 0.7415 - loss: 0.5129 - val_accuracy: 0.6775 - val_loss: 0.6421 - learning_rate: 0.0010\n",
      "Epoch 12/50\n",
      "\u001b[1m200/200\u001b[0m \u001b[32m━━━━━━━━━━━━━━━━━━━━\u001b[0m\u001b[37m\u001b[0m \u001b[1m110s\u001b[0m 549ms/step - accuracy: 0.7592 - loss: 0.4950 - val_accuracy: 0.7175 - val_loss: 0.5265 - learning_rate: 0.0010\n",
      "Epoch 13/50\n",
      "\u001b[1m200/200\u001b[0m \u001b[32m━━━━━━━━━━━━━━━━━━━━\u001b[0m\u001b[37m\u001b[0m \u001b[1m108s\u001b[0m 541ms/step - accuracy: 0.7678 - loss: 0.4805 - val_accuracy: 0.5450 - val_loss: 1.5453 - learning_rate: 0.0010\n",
      "Epoch 14/50\n",
      "\u001b[1m200/200\u001b[0m \u001b[32m━━━━━━━━━━━━━━━━━━━━\u001b[0m\u001b[37m\u001b[0m \u001b[1m113s\u001b[0m 564ms/step - accuracy: 0.7691 - loss: 0.4871 - val_accuracy: 0.7950 - val_loss: 0.4515 - learning_rate: 0.0010\n",
      "Epoch 15/50\n",
      "\u001b[1m200/200\u001b[0m \u001b[32m━━━━━━━━━━━━━━━━━━━━\u001b[0m\u001b[37m\u001b[0m \u001b[1m111s\u001b[0m 555ms/step - accuracy: 0.7750 - loss: 0.4707 - val_accuracy: 0.7325 - val_loss: 0.5828 - learning_rate: 0.0010\n",
      "Epoch 16/50\n",
      "\u001b[1m200/200\u001b[0m \u001b[32m━━━━━━━━━━━━━━━━━━━━\u001b[0m\u001b[37m\u001b[0m \u001b[1m107s\u001b[0m 537ms/step - accuracy: 0.7634 - loss: 0.4918 - val_accuracy: 0.7875 - val_loss: 0.4578 - learning_rate: 0.0010\n",
      "Epoch 17/50\n",
      "\u001b[1m200/200\u001b[0m \u001b[32m━━━━━━━━━━━━━━━━━━━━\u001b[0m\u001b[37m\u001b[0m \u001b[1m113s\u001b[0m 565ms/step - accuracy: 0.7887 - loss: 0.4566 - val_accuracy: 0.7725 - val_loss: 0.4933 - learning_rate: 0.0010\n",
      "Epoch 18/50\n",
      "\u001b[1m200/200\u001b[0m \u001b[32m━━━━━━━━━━━━━━━━━━━━\u001b[0m\u001b[37m\u001b[0m \u001b[1m111s\u001b[0m 554ms/step - accuracy: 0.7873 - loss: 0.4561 - val_accuracy: 0.8100 - val_loss: 0.4272 - learning_rate: 0.0010\n",
      "Epoch 19/50\n",
      "\u001b[1m200/200\u001b[0m \u001b[32m━━━━━━━━━━━━━━━━━━━━\u001b[0m\u001b[37m\u001b[0m \u001b[1m108s\u001b[0m 537ms/step - accuracy: 0.7937 - loss: 0.4403 - val_accuracy: 0.8125 - val_loss: 0.4577 - learning_rate: 0.0010\n",
      "Epoch 20/50\n",
      "\u001b[1m200/200\u001b[0m \u001b[32m━━━━━━━━━━━━━━━━━━━━\u001b[0m\u001b[37m\u001b[0m \u001b[1m114s\u001b[0m 569ms/step - accuracy: 0.7956 - loss: 0.4309 - val_accuracy: 0.7750 - val_loss: 0.4374 - learning_rate: 0.0010\n",
      "Epoch 21/50\n",
      "\u001b[1m200/200\u001b[0m \u001b[32m━━━━━━━━━━━━━━━━━━━━\u001b[0m\u001b[37m\u001b[0m \u001b[1m110s\u001b[0m 550ms/step - accuracy: 0.7944 - loss: 0.4298 - val_accuracy: 0.7750 - val_loss: 0.4728 - learning_rate: 0.0010\n",
      "Epoch 22/50\n",
      "\u001b[1m200/200\u001b[0m \u001b[32m━━━━━━━━━━━━━━━━━━━━\u001b[0m\u001b[37m\u001b[0m \u001b[1m108s\u001b[0m 538ms/step - accuracy: 0.7998 - loss: 0.4217 - val_accuracy: 0.7900 - val_loss: 0.4710 - learning_rate: 0.0010\n",
      "Epoch 23/50\n",
      "\u001b[1m200/200\u001b[0m \u001b[32m━━━━━━━━━━━━━━━━━━━━\u001b[0m\u001b[37m\u001b[0m \u001b[1m112s\u001b[0m 560ms/step - accuracy: 0.8068 - loss: 0.4252 - val_accuracy: 0.7350 - val_loss: 0.6399 - learning_rate: 0.0010\n",
      "Epoch 24/50\n",
      "\u001b[1m200/200\u001b[0m \u001b[32m━━━━━━━━━━━━━━━━━━━━\u001b[0m\u001b[37m\u001b[0m \u001b[1m110s\u001b[0m 550ms/step - accuracy: 0.8187 - loss: 0.4019 - val_accuracy: 0.7825 - val_loss: 0.5320 - learning_rate: 5.0000e-04\n",
      "Epoch 25/50\n",
      "\u001b[1m200/200\u001b[0m \u001b[32m━━━━━━━━━━━━━━━━━━━━\u001b[0m\u001b[37m\u001b[0m \u001b[1m108s\u001b[0m 542ms/step - accuracy: 0.8197 - loss: 0.3932 - val_accuracy: 0.8175 - val_loss: 0.4028 - learning_rate: 5.0000e-04\n",
      "Epoch 26/50\n",
      "\u001b[1m200/200\u001b[0m \u001b[32m━━━━━━━━━━━━━━━━━━━━\u001b[0m\u001b[37m\u001b[0m \u001b[1m1157s\u001b[0m 6s/step - accuracy: 0.8274 - loss: 0.3749 - val_accuracy: 0.7675 - val_loss: 0.4681 - learning_rate: 5.0000e-04\n",
      "Epoch 27/50\n",
      "\u001b[1m200/200\u001b[0m \u001b[32m━━━━━━━━━━━━━━━━━━━━\u001b[0m\u001b[37m\u001b[0m \u001b[1m105s\u001b[0m 523ms/step - accuracy: 0.8305 - loss: 0.3812 - val_accuracy: 0.6550 - val_loss: 0.9391 - learning_rate: 5.0000e-04\n",
      "Epoch 28/50\n",
      "\u001b[1m200/200\u001b[0m \u001b[32m━━━━━━━━━━━━━━━━━━━━\u001b[0m\u001b[37m\u001b[0m \u001b[1m99s\u001b[0m 497ms/step - accuracy: 0.8403 - loss: 0.3552 - val_accuracy: 0.8350 - val_loss: 0.3698 - learning_rate: 5.0000e-04\n",
      "Epoch 29/50\n",
      "\u001b[1m200/200\u001b[0m \u001b[32m━━━━━━━━━━━━━━━━━━━━\u001b[0m\u001b[37m\u001b[0m \u001b[1m112s\u001b[0m 560ms/step - accuracy: 0.8294 - loss: 0.3763 - val_accuracy: 0.7725 - val_loss: 0.5022 - learning_rate: 5.0000e-04\n",
      "Epoch 30/50\n",
      "\u001b[1m200/200\u001b[0m \u001b[32m━━━━━━━━━━━━━━━━━━━━\u001b[0m\u001b[37m\u001b[0m \u001b[1m110s\u001b[0m 549ms/step - accuracy: 0.8337 - loss: 0.3651 - val_accuracy: 0.8400 - val_loss: 0.3848 - learning_rate: 5.0000e-04\n",
      "Epoch 31/50\n",
      "\u001b[1m200/200\u001b[0m \u001b[32m━━━━━━━━━━━━━━━━━━━━\u001b[0m\u001b[37m\u001b[0m \u001b[1m107s\u001b[0m 536ms/step - accuracy: 0.8406 - loss: 0.3610 - val_accuracy: 0.8200 - val_loss: 0.4278 - learning_rate: 5.0000e-04\n",
      "Epoch 32/50\n",
      "\u001b[1m200/200\u001b[0m \u001b[32m━━━━━━━━━━━━━━━━━━━━\u001b[0m\u001b[37m\u001b[0m \u001b[1m112s\u001b[0m 561ms/step - accuracy: 0.8453 - loss: 0.3495 - val_accuracy: 0.8000 - val_loss: 0.4654 - learning_rate: 5.0000e-04\n",
      "Epoch 33/50\n",
      "\u001b[1m200/200\u001b[0m \u001b[32m━━━━━━━━━━━━━━━━━━━━\u001b[0m\u001b[37m\u001b[0m \u001b[1m109s\u001b[0m 546ms/step - accuracy: 0.8466 - loss: 0.3534 - val_accuracy: 0.7250 - val_loss: 0.7409 - learning_rate: 5.0000e-04\n",
      "Epoch 34/50\n",
      "\u001b[1m200/200\u001b[0m \u001b[32m━━━━━━━━━━━━━━━━━━━━\u001b[0m\u001b[37m\u001b[0m \u001b[1m108s\u001b[0m 540ms/step - accuracy: 0.8512 - loss: 0.3376 - val_accuracy: 0.8525 - val_loss: 0.3267 - learning_rate: 2.5000e-04\n",
      "Epoch 35/50\n",
      "\u001b[1m200/200\u001b[0m \u001b[32m━━━━━━━━━━━━━━━━━━━━\u001b[0m\u001b[37m\u001b[0m \u001b[1m113s\u001b[0m 564ms/step - accuracy: 0.8592 - loss: 0.3306 - val_accuracy: 0.8575 - val_loss: 0.3611 - learning_rate: 2.5000e-04\n",
      "Epoch 36/50\n",
      "\u001b[1m200/200\u001b[0m \u001b[32m━━━━━━━━━━━━━━━━━━━━\u001b[0m\u001b[37m\u001b[0m \u001b[1m110s\u001b[0m 548ms/step - accuracy: 0.8396 - loss: 0.3536 - val_accuracy: 0.7875 - val_loss: 0.4489 - learning_rate: 2.5000e-04\n",
      "Epoch 37/50\n",
      "\u001b[1m200/200\u001b[0m \u001b[32m━━━━━━━━━━━━━━━━━━━━\u001b[0m\u001b[37m\u001b[0m \u001b[1m109s\u001b[0m 543ms/step - accuracy: 0.8575 - loss: 0.3361 - val_accuracy: 0.8150 - val_loss: 0.4232 - learning_rate: 2.5000e-04\n",
      "Epoch 38/50\n",
      "\u001b[1m200/200\u001b[0m \u001b[32m━━━━━━━━━━━━━━━━━━━━\u001b[0m\u001b[37m\u001b[0m \u001b[1m113s\u001b[0m 565ms/step - accuracy: 0.8647 - loss: 0.3125 - val_accuracy: 0.8400 - val_loss: 0.3941 - learning_rate: 2.5000e-04\n",
      "Epoch 39/50\n",
      "\u001b[1m200/200\u001b[0m \u001b[32m━━━━━━━━━━━━━━━━━━━━\u001b[0m\u001b[37m\u001b[0m \u001b[1m110s\u001b[0m 550ms/step - accuracy: 0.8581 - loss: 0.3177 - val_accuracy: 0.8300 - val_loss: 0.3920 - learning_rate: 2.5000e-04\n",
      "Epoch 40/50\n",
      "\u001b[1m200/200\u001b[0m \u001b[32m━━━━━━━━━━━━━━━━━━━━\u001b[0m\u001b[37m\u001b[0m \u001b[1m108s\u001b[0m 541ms/step - accuracy: 0.8555 - loss: 0.3253 - val_accuracy: 0.8150 - val_loss: 0.4226 - learning_rate: 1.2500e-04\n",
      "Epoch 41/50\n",
      "\u001b[1m200/200\u001b[0m \u001b[32m━━━━━━━━━━━━━━━━━━━━\u001b[0m\u001b[37m\u001b[0m \u001b[1m112s\u001b[0m 561ms/step - accuracy: 0.8725 - loss: 0.2958 - val_accuracy: 0.8050 - val_loss: 0.4008 - learning_rate: 1.2500e-04\n",
      "Epoch 42/50\n",
      "\u001b[1m200/200\u001b[0m \u001b[32m━━━━━━━━━━━━━━━━━━━━\u001b[0m\u001b[37m\u001b[0m \u001b[1m113s\u001b[0m 564ms/step - accuracy: 0.8586 - loss: 0.3248 - val_accuracy: 0.8450 - val_loss: 0.3561 - learning_rate: 1.2500e-04\n",
      "Epoch 43/50\n",
      "\u001b[1m200/200\u001b[0m \u001b[32m━━━━━━━━━━━━━━━━━━━━\u001b[0m\u001b[37m\u001b[0m \u001b[1m109s\u001b[0m 542ms/step - accuracy: 0.8659 - loss: 0.3129 - val_accuracy: 0.8425 - val_loss: 0.3969 - learning_rate: 1.2500e-04\n",
      "Epoch 44/50\n",
      "\u001b[1m200/200\u001b[0m \u001b[32m━━━━━━━━━━━━━━━━━━━━\u001b[0m\u001b[37m\u001b[0m \u001b[1m113s\u001b[0m 563ms/step - accuracy: 0.8585 - loss: 0.3293 - val_accuracy: 0.8875 - val_loss: 0.3241 - learning_rate: 1.2500e-04\n",
      "Epoch 45/50\n",
      "\u001b[1m200/200\u001b[0m \u001b[32m━━━━━━━━━━━━━━━━━━━━\u001b[0m\u001b[37m\u001b[0m \u001b[1m112s\u001b[0m 562ms/step - accuracy: 0.8721 - loss: 0.3069 - val_accuracy: 0.8425 - val_loss: 0.3347 - learning_rate: 1.2500e-04\n",
      "Epoch 46/50\n",
      "\u001b[1m200/200\u001b[0m \u001b[32m━━━━━━━━━━━━━━━━━━━━\u001b[0m\u001b[37m\u001b[0m \u001b[1m110s\u001b[0m 551ms/step - accuracy: 0.8674 - loss: 0.3062 - val_accuracy: 0.8475 - val_loss: 0.3260 - learning_rate: 1.2500e-04\n",
      "Epoch 47/50\n",
      "\u001b[1m200/200\u001b[0m \u001b[32m━━━━━━━━━━━━━━━━━━━━\u001b[0m\u001b[37m\u001b[0m \u001b[1m112s\u001b[0m 557ms/step - accuracy: 0.8754 - loss: 0.2892 - val_accuracy: 0.8350 - val_loss: 0.3871 - learning_rate: 1.2500e-04\n",
      "Epoch 48/50\n",
      "\u001b[1m200/200\u001b[0m \u001b[32m━━━━━━━━━━━━━━━━━━━━\u001b[0m\u001b[37m\u001b[0m \u001b[1m110s\u001b[0m 551ms/step - accuracy: 0.8689 - loss: 0.3119 - val_accuracy: 0.8600 - val_loss: 0.3312 - learning_rate: 1.2500e-04\n",
      "Epoch 49/50\n",
      "\u001b[1m200/200\u001b[0m \u001b[32m━━━━━━━━━━━━━━━━━━━━\u001b[0m\u001b[37m\u001b[0m \u001b[1m108s\u001b[0m 541ms/step - accuracy: 0.8730 - loss: 0.3051 - val_accuracy: 0.8700 - val_loss: 0.3398 - learning_rate: 1.2500e-04\n",
      "Epoch 50/50\n",
      "\u001b[1m200/200\u001b[0m \u001b[32m━━━━━━━━━━━━━━━━━━━━\u001b[0m\u001b[37m\u001b[0m \u001b[1m112s\u001b[0m 559ms/step - accuracy: 0.8708 - loss: 0.3106 - val_accuracy: 0.8500 - val_loss: 0.3757 - learning_rate: 6.2500e-05\n"
     ]
    }
   ],
   "source": [
    "# Training the Model\n",
    "history = model.fit(\n",
    "    train_data,\n",
    "    validation_data=val_data,\n",
    "    epochs=50,\n",
    "    callbacks=[early_stopping, reduce_lr]\n",
    ")"
   ]
  },
  {
   "cell_type": "code",
   "execution_count": 8,
   "id": "bb33e6bb-bc55-4724-baa4-e48540c28477",
   "metadata": {},
   "outputs": [
    {
     "name": "stdout",
     "output_type": "stream",
     "text": [
      "\u001b[1m13/13\u001b[0m \u001b[32m━━━━━━━━━━━━━━━━━━━━\u001b[0m\u001b[37m\u001b[0m \u001b[1m3s\u001b[0m 209ms/step - accuracy: 0.8462 - loss: 0.3789\n",
      "Validation Loss: 0.3386065661907196 - Validation Accuracy: 0.8650000095367432\n"
     ]
    }
   ],
   "source": [
    "# Evaluating the Model\n",
    "eval_result = model.evaluate(val_data)\n",
    "print(f\"Validation Loss: {eval_result[0]} - Validation Accuracy: {eval_result[1]}\")"
   ]
  },
  {
   "cell_type": "code",
   "execution_count": null,
   "id": "66bdd95f-1e6c-4002-8fb9-f40914bb0e89",
   "metadata": {},
   "outputs": [],
   "source": [
    "#Medium link:https://medium.com/@jislam_64383/building-an-image-classification-model-using-convolutional-neural-networks-cnns-1769c9ced457\n",
    "\n",
    "#Github Repo: https://github.com/Jafrin2006/CNN-for-Image-Classification-.git"
   ]
  },
  {
   "cell_type": "code",
   "execution_count": null,
   "id": "2f856db4-a266-467f-8cc4-08885e719492",
   "metadata": {},
   "outputs": [],
   "source": []
  }
 ],
 "metadata": {
  "kernelspec": {
   "display_name": "Python 3 (ipykernel)",
   "language": "python",
   "name": "python3"
  },
  "language_info": {
   "codemirror_mode": {
    "name": "ipython",
    "version": 3
   },
   "file_extension": ".py",
   "mimetype": "text/x-python",
   "name": "python",
   "nbconvert_exporter": "python",
   "pygments_lexer": "ipython3",
   "version": "3.12.1"
  }
 },
 "nbformat": 4,
 "nbformat_minor": 5
}
